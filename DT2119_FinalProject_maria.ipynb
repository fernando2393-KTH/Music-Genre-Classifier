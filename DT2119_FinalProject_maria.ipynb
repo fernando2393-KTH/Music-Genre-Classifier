{
  "nbformat": 4,
  "nbformat_minor": 0,
  "metadata": {
    "colab": {
      "name": "DT2119-FinalProject.ipynb",
      "provenance": [],
      "include_colab_link": true
    },
    "kernelspec": {
      "name": "python3",
      "display_name": "Python 3"
    },
    "accelerator": "GPU"
  },
  "cells": [
    {
      "cell_type": "markdown",
      "metadata": {
        "id": "view-in-github",
        "colab_type": "text"
      },
      "source": [
        "<a href=\"https://colab.research.google.com/github/fernando2393/DT2119-Final-Project/blob/master/DT2119_FinalProject_maria.ipynb\" target=\"_parent\"><img src=\"https://colab.research.google.com/assets/colab-badge.svg\" alt=\"Open In Colab\"/></a>"
      ]
    },
    {
      "cell_type": "markdown",
      "metadata": {
        "id": "NjDHFVuaQvtu",
        "colab_type": "text"
      },
      "source": [
        "The following code downloads and unzips both dataset and metadata:"
      ]
    },
    {
      "cell_type": "code",
      "metadata": {
        "id": "xqzda6kd8BWu",
        "colab_type": "code",
        "colab": {
          "base_uri": "https://localhost:8080/",
          "height": 124
        },
        "outputId": "24997ff8-f019-4ae3-cc77-59a9646c2e91"
      },
      "source": [
        "from google.colab import drive\n",
        "drive.mount('/content/drive')"
      ],
      "execution_count": 2,
      "outputs": [
        {
          "output_type": "stream",
          "text": [
            "Go to this URL in a browser: https://accounts.google.com/o/oauth2/auth?client_id=947318989803-6bn6qk8qdgf4n4g3pfee6491hc0brc4i.apps.googleusercontent.com&redirect_uri=urn%3aietf%3awg%3aoauth%3a2.0%3aoob&response_type=code&scope=email%20https%3a%2f%2fwww.googleapis.com%2fauth%2fdocs.test%20https%3a%2f%2fwww.googleapis.com%2fauth%2fdrive%20https%3a%2f%2fwww.googleapis.com%2fauth%2fdrive.photos.readonly%20https%3a%2f%2fwww.googleapis.com%2fauth%2fpeopleapi.readonly\n",
            "\n",
            "Enter your authorization code:\n",
            "··········\n",
            "Mounted at /content/drive\n"
          ],
          "name": "stdout"
        }
      ]
    },
    {
      "cell_type": "code",
      "metadata": {
        "id": "GxgvFTOLTrzP",
        "colab_type": "code",
        "colab": {}
      },
      "source": [
        "import tensorflow as tf\n",
        "import numpy as np\n",
        "import matplotlib.pyplot as plt\n",
        "\n",
        "from tensorflow.keras.optimizers import Adam\n",
        "from tensorflow.keras.utils import to_categorical\n",
        "from tensorflow.keras.models import Sequential\n",
        "from tensorflow.keras.layers import Conv1D, MaxPooling2D, Flatten, Dense, Dropout, BatchNormalization, Activation\n",
        "from sklearn.metrics import confusion_matrix, classification_report\n",
        "from tensorflow.keras.callbacks import EarlyStopping\n",
        "from tensorflow.keras.callbacks import ModelCheckpoint\n",
        "from sklearn.metrics import accuracy_score\n",
        "from sklearn.model_selection import train_test_split\n",
        "\n",
        "from pathlib import Path\n",
        "import librosa.display\n",
        "import librosa\n",
        "import sklearn as skl\n",
        "import os\n",
        "import warnings\n",
        "from tqdm import tqdm"
      ],
      "execution_count": 0,
      "outputs": []
    },
    {
      "cell_type": "code",
      "metadata": {
        "id": "xwvkDn2wl824",
        "colab_type": "code",
        "colab": {}
      },
      "source": [
        "\"\"\"\n",
        "This class is in charge of loading the relevant data and splitting the dataset.\n",
        "note: Check https://nbviewer.jupyter.org/github/mdeff/fma/blob/outputs/usage.ipynb for a deeper understanding of\n",
        "      the data format in the .csv files.\n",
        "\"\"\"\n",
        "\n",
        "import pandas as pd\n",
        "DATASETS = \"/content/drive/My Drive/Datasets/fma_reduced/\"\n",
        "METADATA = \"/content/drive/My Drive/Datasets/fma_metadata/\"\n",
        "MFCC = \"/content/drive/My Drive/Datasets/mfcc.csv\"\n",
        "\n",
        "\n",
        "\n",
        "class Loader:\n",
        "    def __init__(self):\n",
        "        self.features = ['mfcc', 'chroma_cens', 'tonnetz', 'spectral_contrast',\n",
        "                         ['spectral_centroid', 'spectral_bandwidth', 'spectral_rolloff'],\n",
        "                         ['rmse', 'zcr']]  # Main categories of the stored features\n",
        "\n",
        "    @staticmethod\n",
        "    def load_features():\n",
        "        \"\"\"\n",
        "        This method loads the data features from the .csv file.\n",
        "        :return features of the data.\n",
        "        \"\"\"\n",
        "        features = pd.read_csv(METADATA + \"features.csv\", index_col=0, header=[0, 1, 2])\n",
        "\n",
        "        return features\n",
        "\n",
        "    @staticmethod\n",
        "    def load_echonest():\n",
        "        \"\"\"\n",
        "        This method loads the data echonest features from the .csv file.\n",
        "        :return echonest features of the data.\n",
        "        \"\"\"\n",
        "        echonest = pd.read_csv(METADATA + \"echonest.csv\", index_col=0, header=[0, 1, 2])\n",
        "\n",
        "        return echonest\n",
        "\n",
        "    @staticmethod\n",
        "    def load_genres():\n",
        "        \"\"\"\n",
        "        This method loads the data genres from the .csv file.\n",
        "        :return genres of the data and top level genres.\n",
        "        \"\"\"\n",
        "        genres = pd.read_csv(METADATA + \"genres.csv\", index_col=0)\n",
        "        top_level = genres['top_level'].unique()  # This corresponds to the considered \"top-level genres\"\n",
        "\n",
        "        print(\"There is a total of \" + str(genres.shape[0]) + \" genres.\")\n",
        "        print(\"There is a total of \" + str(len(top_level)) + \" top-level genres.\")\n",
        "\n",
        "        return genres, top_level\n",
        "\n",
        "    @staticmethod\n",
        "    def load_tracks():\n",
        "        \"\"\"\n",
        "        This method loads the data tracks from the .csv file.\n",
        "        :return music tracks.\n",
        "        \"\"\"\n",
        "        tracks = pd.read_csv(METADATA + \"tracks.csv\", index_col=0, header=[0, 1])\n",
        "\n",
        "        return tracks\n",
        "\n",
        "    @staticmethod\n",
        "    def load_mfcc():\n",
        "        if not Path(MFCC).is_file():  # Check if the file exists\n",
        "            compute_mfcc = MfccComputation()\n",
        "            compute_mfcc.preprocessing()  # If the file does not exist, create it\n",
        "        mfcc_val = pd.read_csv(MFCC)\n",
        "\n",
        "        return mfcc_val\n",
        "\n",
        "    @staticmethod\n",
        "    def split_dataset(tracks, features, cat='mfcc'):\n",
        "        \"\"\"\n",
        "        This methods separates the tracks into dataset by means of the 'cat' feature.\n",
        "        :param tracks: the music tracks loaded in the format returned by 'load_tracks'.\n",
        "        :param features: the music features loaded in the format returned by 'load_features'.\n",
        "        :param cat: the feature category used to obtain the dataset features. It will be 'mfcc' by default.\n",
        "        :return training set, validation set and test set.\n",
        "        \"\"\"\n",
        "        train = tracks['set', 'split'] == 'training'  # Training songs\n",
        "        val = tracks['set', 'split'] == 'validation'  # Validation songs\n",
        "        test = tracks['set', 'split'] == 'test'  # Test songs\n",
        "\n",
        "        x_train = features.loc[train, cat]\n",
        "        x_val = features.loc[val, cat]\n",
        "        x_test = features.loc[test, cat]\n",
        "        y_train = tracks.loc[train, ('track', 'genre_top')]\n",
        "        y_val = tracks.loc[val, ('track', 'genre_top')]\n",
        "        y_test = tracks.loc[test, ('track', 'genre_top')]\n",
        "\n",
        "        return (x_train, y_train), (x_val, y_val), (x_test, y_test)\n"
      ],
      "execution_count": 0,
      "outputs": []
    },
    {
      "cell_type": "code",
      "metadata": {
        "id": "QS_IhDkhLR6f",
        "colab_type": "code",
        "colab": {}
      },
      "source": [
        "def compute_mfcc(filepath):\n",
        "    \"\"\"\n",
        "    This method loads the a music track and computes the mfcc.\n",
        "    :param filepath: music track.\n",
        "    :return mfcc of the data track.\n",
        "    \"\"\"\n",
        "    x, sr = librosa.load(filepath, sr=None, mono=True)\n",
        "    stft = np.abs(librosa.stft(x, n_fft=2048, hop_length=512))\n",
        "    mel = librosa.feature.melspectrogram(sr=sr, S=stft ** 2)\n",
        "    mfcc = librosa.feature.mfcc(S=librosa.power_to_db(mel), n_mfcc=20)\n",
        "    mfcc = skl.preprocessing.StandardScaler().fit_transform(mfcc)\n",
        "\n",
        "    return mfcc\n",
        "\n",
        "\n",
        "class MfccComputation:\n",
        "\n",
        "    @staticmethod\n",
        "    def preprocessing():\n",
        "        \"\"\"\n",
        "        This method parses the data files, calls compute_mfcc and save them into a .csv file.\n",
        "        \"\"\"\n",
        "        warnings.filterwarnings('ignore')\n",
        "        folders = os.listdir(DATASETS)\n",
        "        if '.DS_Store' in folders:  # MacOS file system check\n",
        "            folders.remove('.DS_Store')\n",
        "        folders.sort()\n",
        "        mfcc_dict = {}\n",
        "        for foldername in tqdm(folders):\n",
        "            files = os.listdir(DATASETS + foldername)\n",
        "            files.sort()\n",
        "            for file in files:\n",
        "                key = file.strip('0')\n",
        "                key = key.replace('.mp3', '')\n",
        "                mfcc = compute_mfcc(DATASETS + foldername + '/' + file)\n",
        "                mfcc_dict[key] = [mfcc]\n",
        "\n",
        "        df = pd.DataFrame(list(mfcc_dict.items()), columns=['track', 'mfcc'])\n",
        "        df.to_csv(MFCC)\n"
      ],
      "execution_count": 0,
      "outputs": []
    },
    {
      "cell_type": "code",
      "metadata": {
        "id": "zgDqcrgGl-jA",
        "colab_type": "code",
        "colab": {
          "base_uri": "https://localhost:8080/",
          "height": 363
        },
        "outputId": "53d10549-8f45-48e3-d456-3bc4e9d2bb2a"
      },
      "source": [
        "loader = Loader()\n",
        "mfcc = loader.load_mfcc()\n",
        "#tracks = loader.load_tracks()\n",
        "#features = loader.load_features()\n",
        "#(x_train, y_train), (x_val, y_val), (x_test, y_test) = loader.split_dataset(tracks, features)"
      ],
      "execution_count": 6,
      "outputs": [
        {
          "output_type": "stream",
          "text": [
            " 77%|███████▋  | 99/129 [1:19:07<34:01, 68.07s/it]"
          ],
          "name": "stderr"
        },
        {
          "output_type": "error",
          "ename": "NoBackendError",
          "evalue": "ignored",
          "traceback": [
            "\u001b[0;31m---------------------------------------------------------------------------\u001b[0m",
            "\u001b[0;31mNoBackendError\u001b[0m                            Traceback (most recent call last)",
            "\u001b[0;32m<ipython-input-6-30cabcdd3279>\u001b[0m in \u001b[0;36m<module>\u001b[0;34m()\u001b[0m\n\u001b[1;32m      1\u001b[0m \u001b[0mloader\u001b[0m \u001b[0;34m=\u001b[0m \u001b[0mLoader\u001b[0m\u001b[0;34m(\u001b[0m\u001b[0;34m)\u001b[0m\u001b[0;34m\u001b[0m\u001b[0;34m\u001b[0m\u001b[0m\n\u001b[0;32m----> 2\u001b[0;31m \u001b[0mmfcc\u001b[0m \u001b[0;34m=\u001b[0m \u001b[0mloader\u001b[0m\u001b[0;34m.\u001b[0m\u001b[0mload_mfcc\u001b[0m\u001b[0;34m(\u001b[0m\u001b[0;34m)\u001b[0m\u001b[0;34m\u001b[0m\u001b[0;34m\u001b[0m\u001b[0m\n\u001b[0m\u001b[1;32m      3\u001b[0m \u001b[0;31m#tracks = loader.load_tracks()\u001b[0m\u001b[0;34m\u001b[0m\u001b[0;34m\u001b[0m\u001b[0;34m\u001b[0m\u001b[0m\n\u001b[1;32m      4\u001b[0m \u001b[0;31m#features = loader.load_features()\u001b[0m\u001b[0;34m\u001b[0m\u001b[0;34m\u001b[0m\u001b[0;34m\u001b[0m\u001b[0m\n\u001b[1;32m      5\u001b[0m \u001b[0;31m#(x_train, y_train), (x_val, y_val), (x_test, y_test) = loader.split_dataset(tracks, features)\u001b[0m\u001b[0;34m\u001b[0m\u001b[0;34m\u001b[0m\u001b[0;34m\u001b[0m\u001b[0m\n",
            "\u001b[0;32m<ipython-input-4-1dc36e5e9075>\u001b[0m in \u001b[0;36mload_mfcc\u001b[0;34m()\u001b[0m\n\u001b[1;32m     66\u001b[0m         \u001b[0;32mif\u001b[0m \u001b[0;32mnot\u001b[0m \u001b[0mPath\u001b[0m\u001b[0;34m(\u001b[0m\u001b[0mMFCC\u001b[0m\u001b[0;34m)\u001b[0m\u001b[0;34m.\u001b[0m\u001b[0mis_file\u001b[0m\u001b[0;34m(\u001b[0m\u001b[0;34m)\u001b[0m\u001b[0;34m:\u001b[0m  \u001b[0;31m# Check if the file exists\u001b[0m\u001b[0;34m\u001b[0m\u001b[0;34m\u001b[0m\u001b[0m\n\u001b[1;32m     67\u001b[0m             \u001b[0mcompute_mfcc\u001b[0m \u001b[0;34m=\u001b[0m \u001b[0mMfccComputation\u001b[0m\u001b[0;34m(\u001b[0m\u001b[0;34m)\u001b[0m\u001b[0;34m\u001b[0m\u001b[0;34m\u001b[0m\u001b[0m\n\u001b[0;32m---> 68\u001b[0;31m             \u001b[0mcompute_mfcc\u001b[0m\u001b[0;34m.\u001b[0m\u001b[0mpreprocessing\u001b[0m\u001b[0;34m(\u001b[0m\u001b[0;34m)\u001b[0m  \u001b[0;31m# If the file does not exist, create it\u001b[0m\u001b[0;34m\u001b[0m\u001b[0;34m\u001b[0m\u001b[0m\n\u001b[0m\u001b[1;32m     69\u001b[0m         \u001b[0mmfcc_val\u001b[0m \u001b[0;34m=\u001b[0m \u001b[0mpd\u001b[0m\u001b[0;34m.\u001b[0m\u001b[0mread_csv\u001b[0m\u001b[0;34m(\u001b[0m\u001b[0mMFCC\u001b[0m\u001b[0;34m)\u001b[0m\u001b[0;34m\u001b[0m\u001b[0;34m\u001b[0m\u001b[0m\n\u001b[1;32m     70\u001b[0m \u001b[0;34m\u001b[0m\u001b[0m\n",
            "\u001b[0;32m<ipython-input-5-5d64f71cd571>\u001b[0m in \u001b[0;36mpreprocessing\u001b[0;34m()\u001b[0m\n\u001b[1;32m     33\u001b[0m                 \u001b[0mkey\u001b[0m \u001b[0;34m=\u001b[0m \u001b[0mfile\u001b[0m\u001b[0;34m.\u001b[0m\u001b[0mstrip\u001b[0m\u001b[0;34m(\u001b[0m\u001b[0;34m'0'\u001b[0m\u001b[0;34m)\u001b[0m\u001b[0;34m\u001b[0m\u001b[0;34m\u001b[0m\u001b[0m\n\u001b[1;32m     34\u001b[0m                 \u001b[0mkey\u001b[0m \u001b[0;34m=\u001b[0m \u001b[0mkey\u001b[0m\u001b[0;34m.\u001b[0m\u001b[0mreplace\u001b[0m\u001b[0;34m(\u001b[0m\u001b[0;34m'.mp3'\u001b[0m\u001b[0;34m,\u001b[0m \u001b[0;34m''\u001b[0m\u001b[0;34m)\u001b[0m\u001b[0;34m\u001b[0m\u001b[0;34m\u001b[0m\u001b[0m\n\u001b[0;32m---> 35\u001b[0;31m                 \u001b[0mmfcc\u001b[0m \u001b[0;34m=\u001b[0m \u001b[0mcompute_mfcc\u001b[0m\u001b[0;34m(\u001b[0m\u001b[0mDATASETS\u001b[0m \u001b[0;34m+\u001b[0m \u001b[0mfoldername\u001b[0m \u001b[0;34m+\u001b[0m \u001b[0;34m'/'\u001b[0m \u001b[0;34m+\u001b[0m \u001b[0mfile\u001b[0m\u001b[0;34m)\u001b[0m\u001b[0;34m\u001b[0m\u001b[0;34m\u001b[0m\u001b[0m\n\u001b[0m\u001b[1;32m     36\u001b[0m                 \u001b[0mmfcc_dict\u001b[0m\u001b[0;34m[\u001b[0m\u001b[0mkey\u001b[0m\u001b[0;34m]\u001b[0m \u001b[0;34m=\u001b[0m \u001b[0;34m[\u001b[0m\u001b[0mmfcc\u001b[0m\u001b[0;34m]\u001b[0m\u001b[0;34m\u001b[0m\u001b[0;34m\u001b[0m\u001b[0m\n\u001b[1;32m     37\u001b[0m \u001b[0;34m\u001b[0m\u001b[0m\n",
            "\u001b[0;32m<ipython-input-5-5d64f71cd571>\u001b[0m in \u001b[0;36mcompute_mfcc\u001b[0;34m(filepath)\u001b[0m\n\u001b[1;32m      5\u001b[0m     \u001b[0;34m:\u001b[0m\u001b[0;32mreturn\u001b[0m \u001b[0mmfcc\u001b[0m \u001b[0mof\u001b[0m \u001b[0mthe\u001b[0m \u001b[0mdata\u001b[0m \u001b[0mtrack\u001b[0m\u001b[0;34m.\u001b[0m\u001b[0;34m\u001b[0m\u001b[0;34m\u001b[0m\u001b[0m\n\u001b[1;32m      6\u001b[0m     \"\"\"\n\u001b[0;32m----> 7\u001b[0;31m     \u001b[0mx\u001b[0m\u001b[0;34m,\u001b[0m \u001b[0msr\u001b[0m \u001b[0;34m=\u001b[0m \u001b[0mlibrosa\u001b[0m\u001b[0;34m.\u001b[0m\u001b[0mload\u001b[0m\u001b[0;34m(\u001b[0m\u001b[0mfilepath\u001b[0m\u001b[0;34m,\u001b[0m \u001b[0msr\u001b[0m\u001b[0;34m=\u001b[0m\u001b[0;32mNone\u001b[0m\u001b[0;34m,\u001b[0m \u001b[0mmono\u001b[0m\u001b[0;34m=\u001b[0m\u001b[0;32mTrue\u001b[0m\u001b[0;34m)\u001b[0m\u001b[0;34m\u001b[0m\u001b[0;34m\u001b[0m\u001b[0m\n\u001b[0m\u001b[1;32m      8\u001b[0m     \u001b[0mstft\u001b[0m \u001b[0;34m=\u001b[0m \u001b[0mnp\u001b[0m\u001b[0;34m.\u001b[0m\u001b[0mabs\u001b[0m\u001b[0;34m(\u001b[0m\u001b[0mlibrosa\u001b[0m\u001b[0;34m.\u001b[0m\u001b[0mstft\u001b[0m\u001b[0;34m(\u001b[0m\u001b[0mx\u001b[0m\u001b[0;34m,\u001b[0m \u001b[0mn_fft\u001b[0m\u001b[0;34m=\u001b[0m\u001b[0;36m2048\u001b[0m\u001b[0;34m,\u001b[0m \u001b[0mhop_length\u001b[0m\u001b[0;34m=\u001b[0m\u001b[0;36m512\u001b[0m\u001b[0;34m)\u001b[0m\u001b[0;34m)\u001b[0m\u001b[0;34m\u001b[0m\u001b[0;34m\u001b[0m\u001b[0m\n\u001b[1;32m      9\u001b[0m     \u001b[0mmel\u001b[0m \u001b[0;34m=\u001b[0m \u001b[0mlibrosa\u001b[0m\u001b[0;34m.\u001b[0m\u001b[0mfeature\u001b[0m\u001b[0;34m.\u001b[0m\u001b[0mmelspectrogram\u001b[0m\u001b[0;34m(\u001b[0m\u001b[0msr\u001b[0m\u001b[0;34m=\u001b[0m\u001b[0msr\u001b[0m\u001b[0;34m,\u001b[0m \u001b[0mS\u001b[0m\u001b[0;34m=\u001b[0m\u001b[0mstft\u001b[0m \u001b[0;34m**\u001b[0m \u001b[0;36m2\u001b[0m\u001b[0;34m)\u001b[0m\u001b[0;34m\u001b[0m\u001b[0;34m\u001b[0m\u001b[0m\n",
            "\u001b[0;32m/usr/local/lib/python3.6/dist-packages/librosa/core/audio.py\u001b[0m in \u001b[0;36mload\u001b[0;34m(path, sr, mono, offset, duration, dtype, res_type)\u001b[0m\n\u001b[1;32m    117\u001b[0m \u001b[0;34m\u001b[0m\u001b[0m\n\u001b[1;32m    118\u001b[0m     \u001b[0my\u001b[0m \u001b[0;34m=\u001b[0m \u001b[0;34m[\u001b[0m\u001b[0;34m]\u001b[0m\u001b[0;34m\u001b[0m\u001b[0;34m\u001b[0m\u001b[0m\n\u001b[0;32m--> 119\u001b[0;31m     \u001b[0;32mwith\u001b[0m \u001b[0maudioread\u001b[0m\u001b[0;34m.\u001b[0m\u001b[0maudio_open\u001b[0m\u001b[0;34m(\u001b[0m\u001b[0mos\u001b[0m\u001b[0;34m.\u001b[0m\u001b[0mpath\u001b[0m\u001b[0;34m.\u001b[0m\u001b[0mrealpath\u001b[0m\u001b[0;34m(\u001b[0m\u001b[0mpath\u001b[0m\u001b[0;34m)\u001b[0m\u001b[0;34m)\u001b[0m \u001b[0;32mas\u001b[0m \u001b[0minput_file\u001b[0m\u001b[0;34m:\u001b[0m\u001b[0;34m\u001b[0m\u001b[0;34m\u001b[0m\u001b[0m\n\u001b[0m\u001b[1;32m    120\u001b[0m         \u001b[0msr_native\u001b[0m \u001b[0;34m=\u001b[0m \u001b[0minput_file\u001b[0m\u001b[0;34m.\u001b[0m\u001b[0msamplerate\u001b[0m\u001b[0;34m\u001b[0m\u001b[0;34m\u001b[0m\u001b[0m\n\u001b[1;32m    121\u001b[0m         \u001b[0mn_channels\u001b[0m \u001b[0;34m=\u001b[0m \u001b[0minput_file\u001b[0m\u001b[0;34m.\u001b[0m\u001b[0mchannels\u001b[0m\u001b[0;34m\u001b[0m\u001b[0;34m\u001b[0m\u001b[0m\n",
            "\u001b[0;32m/usr/local/lib/python3.6/dist-packages/audioread/__init__.py\u001b[0m in \u001b[0;36maudio_open\u001b[0;34m(path, backends)\u001b[0m\n\u001b[1;32m    114\u001b[0m \u001b[0;34m\u001b[0m\u001b[0m\n\u001b[1;32m    115\u001b[0m     \u001b[0;31m# All backends failed!\u001b[0m\u001b[0;34m\u001b[0m\u001b[0;34m\u001b[0m\u001b[0;34m\u001b[0m\u001b[0m\n\u001b[0;32m--> 116\u001b[0;31m     \u001b[0;32mraise\u001b[0m \u001b[0mNoBackendError\u001b[0m\u001b[0;34m(\u001b[0m\u001b[0;34m)\u001b[0m\u001b[0;34m\u001b[0m\u001b[0;34m\u001b[0m\u001b[0m\n\u001b[0m",
            "\u001b[0;31mNoBackendError\u001b[0m: "
          ]
        }
      ]
    },
    {
      "cell_type": "markdown",
      "metadata": {
        "id": "DReHbv9FRsbj",
        "colab_type": "text"
      },
      "source": [
        "# Music Genre Classifier:\n",
        "Music classifier by genre using convolutional neural networks."
      ]
    },
    {
      "cell_type": "code",
      "metadata": {
        "id": "wBZJ7JnFTT_Q",
        "colab_type": "code",
        "colab": {}
      },
      "source": [
        "class Classifier:\n",
        "    @staticmethod\n",
        "    def build(inputShape):\n",
        "        \n",
        "        model = Sequential()\n",
        "\n",
        "        model.add(Conv1D(32, (3, 3), strides=(1, 1), input_shape=inputShape)) \n",
        "        model.add(Activation('relu'))\n",
        "        model.add(MaxPooling2D(pool_size=(2, 2), strides=(2, 2)))\n",
        "        \n",
        "        model.add(Conv1D(32, (3, 3), strides=(1, 1)))\n",
        "        model.add(Activation('relu'))\n",
        "        model.add(MaxPooling2D(pool_size=(2, 2), strides=(2, 2)))\n",
        "        \n",
        "        model.add(Conv1D(64, (3, 3), strides=(1, 1)))\n",
        "        model.add(Activation('relu'))\n",
        "        model.add(MaxPooling2D(pool_size=(2, 2), strides=(2, 2)))\n",
        "        model.add(Dropout(0.2))\n",
        "        \n",
        "        model.add(Flatten())\n",
        "        model.add(Dense(64, activation='relu'))\n",
        "        model.add(Dropout(0.3))\n",
        "        model.add(Dense(classes, activation='softmax'))\n",
        "        \n",
        "        print(\"summary\")\n",
        "        print(model.summary())\n",
        "        \n",
        "        return model"
      ],
      "execution_count": 0,
      "outputs": []
    },
    {
      "cell_type": "code",
      "metadata": {
        "id": "_kz-Lmr8TdtO",
        "colab_type": "code",
        "colab": {}
      },
      "source": [
        "inputShape = x_train.shape\n",
        "inputShape"
      ],
      "execution_count": 0,
      "outputs": []
    },
    {
      "cell_type": "code",
      "metadata": {
        "id": "eji6FCuPRa5o",
        "colab_type": "code",
        "colab": {}
      },
      "source": [
        "model = Classifier.build(inputShape)\n",
        "\n",
        "opt = Adam(lr=INIT_LR, decay=INIT_LR/EPOCHS)\n",
        "\n",
        "model.compile(loss=\"binary_crossentropy\", optimizer=opt,\n",
        "              metrics=[\"accuracy\"])\n",
        "\n",
        "# Callbacks: early stopping and checkpoint\n",
        "early_stopping = EarlyStopping(monitor='val_accuracy', verbose=1, \n",
        "                               patience=10,\n",
        "                               mode='max',\n",
        "                               restore_best_weights=True)\n",
        "\n",
        "filepath = \"weights.{epoch:02d}-{val_accuracy:.2f}.hdf5\"\n",
        "checkpoint = ModelCheckpoint(filepath, monitor='val_accuracy', verbose=1, \n",
        "                             save_best_only=True, mode='max')\n",
        "\n",
        "callbacks_list = [early_stopping, checkpoint]"
      ],
      "execution_count": 0,
      "outputs": []
    }
  ]
}