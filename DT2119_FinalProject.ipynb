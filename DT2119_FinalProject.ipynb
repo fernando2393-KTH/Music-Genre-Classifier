{
  "nbformat": 4,
  "nbformat_minor": 0,
  "metadata": {
    "colab": {
      "name": "DT2119-FinalProject.ipynb",
      "provenance": [],
      "toc_visible": true,
      "include_colab_link": true
    },
    "kernelspec": {
      "name": "python3",
      "display_name": "Python 3"
    }
  },
  "cells": [
    {
      "cell_type": "markdown",
      "metadata": {
        "id": "view-in-github",
        "colab_type": "text"
      },
      "source": [
        "<a href=\"https://colab.research.google.com/github/fernando2393/DT2119-Final-Project/blob/master/DT2119_FinalProject.ipynb\" target=\"_parent\"><img src=\"https://colab.research.google.com/assets/colab-badge.svg\" alt=\"Open In Colab\"/></a>"
      ]
    },
    {
      "cell_type": "markdown",
      "metadata": {
        "id": "NjDHFVuaQvtu",
        "colab_type": "text"
      },
      "source": [
        "The following code downloads and unzips both dataset and metadata:"
      ]
    },
    {
      "cell_type": "code",
      "metadata": {
        "id": "-a6XufhxdtiC",
        "colab_type": "code",
        "colab": {}
      },
      "source": [
        "from google.colab import drive\n",
        "drive.mount('/content/drive')"
      ],
      "execution_count": 0,
      "outputs": []
    },
    {
      "cell_type": "code",
      "metadata": {
        "id": "Ft8idzqCQu8x",
        "colab_type": "code",
        "colab": {}
      },
      "source": [
        "%cd drive/My\\ Drive\n",
        "!mkdir -p Datasets\n",
        "%cd Datasets\n",
        "!curl -O https://os.unil.cloud.switch.ch/fma/fma_metadata.zip\n",
        "!curl -O https://os.unil.cloud.switch.ch/fma/fma_small.zip\n",
        "!unzip fma_metadata.zip\n",
        "!unzip fma_small.zip\n",
        "!rm fma_metadata.zip\n",
        "!rm fma_small.zip\n",
        "%cd ..\n",
        "\n",
        "# Dataset content is now in: /content/drive/My\\ Drive/Datasets"
      ],
      "execution_count": 0,
      "outputs": []
    },
    {
      "cell_type": "markdown",
      "metadata": {
        "id": "DReHbv9FRsbj",
        "colab_type": "text"
      },
      "source": [
        "# Music Genre Classifier:\n",
        "Music classifier by genre using convolutional neural networks."
      ]
    },
    {
      "cell_type": "code",
      "metadata": {
        "id": "eIYFEBgiRzzy",
        "colab_type": "code",
        "colab": {}
      },
      "source": [
        ""
      ],
      "execution_count": 0,
      "outputs": []
    }
  ]
}